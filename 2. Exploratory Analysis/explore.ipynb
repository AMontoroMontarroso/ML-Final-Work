{
 "cells": [
  {
   "cell_type": "code",
   "execution_count": 1,
   "metadata": {
    "collapsed": true
   },
   "outputs": [],
   "source": [
    "# -*- coding: utf-8 -*-\n",
    "import pandas as pd\n",
    "import numpy as np\n",
    "import matplotlib.pyplot as plt"
   ]
  },
  {
   "cell_type": "code",
   "execution_count": 2,
   "metadata": {
    "collapsed": false
   },
   "outputs": [
    {
     "name": "stderr",
     "output_type": "stream",
     "text": [
      "/Users/MontoroMontarroso/anaconda/lib/python3.5/site-packages/IPython/core/interactiveshell.py:2717: DtypeWarning: Columns (13) have mixed types. Specify dtype option on import or set low_memory=False.\n",
      "  interactivity=interactivity, compiler=compiler, result=result)\n",
      "/Users/MontoroMontarroso/anaconda/lib/python3.5/site-packages/pandas/core/generic.py:2572: VisibleDeprecationWarning: using a non-integer number instead of an integer will result in an error in the future\n",
      "  locs = rs.choice(axis_length, size=n, replace=replace, p=weights)\n"
     ]
    }
   ],
   "source": [
    "limit_rows = 2000000\n",
    "df = pd.read_csv('../Data/train_vers2_clean2.csv', \n",
    "                           nrows=limit_rows)\n",
    "unique_ids = pd.Series(df[\"ncodpers\"].unique())\n",
    "df  = df[df.ncodpers.isin(unique_ids)]\n",
    "limit_people = 1e5\n",
    "unique_ids_sample= unique_ids.sample(n=limit_people)\n",
    "df = df[df.ncodpers.isin(unique_ids_sample)]"
   ]
  },
  {
   "cell_type": "code",
   "execution_count": 3,
   "metadata": {
    "collapsed": true
   },
   "outputs": [],
   "source": [
    "df=df[df['fecha_dato']=='2015-01-28']"
   ]
  },
  {
   "cell_type": "code",
   "execution_count": 4,
   "metadata": {
    "collapsed": false
   },
   "outputs": [],
   "source": [
    "columns = np.append(df.iloc[:1,].filter(regex=\"ind_+.*ult.*\").columns.values, ['age'])\n",
    "df = df.ix[:, columns]"
   ]
  },
  {
   "cell_type": "code",
   "execution_count": 5,
   "metadata": {
    "collapsed": false
   },
   "outputs": [],
   "source": [
    "#df_cr = df[df['nomprov'] == 'CIUDAD REAL'].drop('nomprov', axis = 1)\n",
    "#df_madrid = df[df['nomprov'] == 'MADRID'].drop('nomprov', axis = 1)\n",
    "#df_badajoz = df[df['nomprov'] == 'BADAJOZ'].drop('nomprov', axis = 1)\n",
    "df_spain = df[(df['age'] >=1) & (df['age'] <= 10)].drop('age', axis = 1)"
   ]
  },
  {
   "cell_type": "code",
   "execution_count": 6,
   "metadata": {
    "collapsed": false
   },
   "outputs": [],
   "source": [
    "from sklearn.cluster import KMeans"
   ]
  },
  {
   "cell_type": "code",
   "execution_count": 7,
   "metadata": {
    "collapsed": false
   },
   "outputs": [],
   "source": [
    "n_clusters = int(np.sqrt(df_spain.shape[0]))\n",
    "km = KMeans(n_clusters, init = 'k-means++', max_iter=300, tol=1e-04)\n",
    "labels = km.fit_predict(df_spain)\n",
    "df_spain['cluster'] = labels\n",
    "df_spain_reduced = df_spain.groupby(by=['cluster']).mean()"
   ]
  },
  {
   "cell_type": "code",
   "execution_count": 8,
   "metadata": {
    "collapsed": true
   },
   "outputs": [],
   "source": [
    "from sklearn.neighbors import DistanceMetric\n",
    "from scipy import cluster "
   ]
  },
  {
   "cell_type": "code",
   "execution_count": 9,
   "metadata": {
    "collapsed": false
   },
   "outputs": [
    {
     "data": {
      "image/png": "[encoded data removed]",
      "text/plain": [
       "<matplotlib.figure.Figure at 0x1264ea588>"
      ]
     },
     "metadata": {},
     "output_type": "display_data"
    }
   ],
   "source": [
    "dist = DistanceMetric.get_metric('euclidean')\n",
    "matsim = dist.pairwise(df_spain_reduced)\n",
    "clusters = cluster.hierarchy.linkage(matsim, method='complete')\n",
    "cluster.hierarchy.dendrogram(clusters)\n",
    "plt.show()"
   ]
  },
  {
   "cell_type": "code",
   "execution_count": 10,
   "metadata": {
    "collapsed": true
   },
   "outputs": [],
   "source": [
    "from sklearn import metrics"
   ]
  },
  {
   "cell_type": "code",
   "execution_count": 11,
   "metadata": {
    "collapsed": false
   },
   "outputs": [
    {
     "data": {
      "text/plain": [
       "1.0"
      ]
     },
     "execution_count": 11,
     "metadata": {},
     "output_type": "execute_result"
    }
   ],
   "source": [
    "#df_sample = df_spain.sample(1000)\n",
    "metrics.silhouette_score(df_spain, labels)"
   ]
  },
  {
   "cell_type": "code",
   "execution_count": null,
   "metadata": {
    "collapsed": true
   },
   "outputs": [],
   "source": []
  }
 ],
 "metadata": {
  "anaconda-cloud": {},
  "kernelspec": {
   "display_name": "Python [conda root]",
   "language": "python",
   "name": "conda-root-py"
  },
  "language_info": {
   "codemirror_mode": {
    "name": "ipython",
    "version": 3
   },
   "file_extension": ".py",
   "mimetype": "text/x-python",
   "name": "python",
   "nbconvert_exporter": "python",
   "pygments_lexer": "ipython3",
   "version": "3.5.2"
  }
 },
 "nbformat": 4,
 "nbformat_minor": 1
}
