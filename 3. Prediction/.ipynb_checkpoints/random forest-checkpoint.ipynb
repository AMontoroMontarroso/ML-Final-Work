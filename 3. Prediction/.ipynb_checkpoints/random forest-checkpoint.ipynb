{
 "cells": [
  {
   "cell_type": "code",
   "execution_count": 1,
   "metadata": {
    "collapsed": true
   },
   "outputs": [],
   "source": [
    "import pandas as pd\n",
    "import numpy as np\n",
    "from sklearn.preprocessing import LabelEncoder, OneHotEncoder, MinMaxScaler "
   ]
  },
  {
   "cell_type": "code",
   "execution_count": 2,
   "metadata": {
    "collapsed": false
   },
   "outputs": [
    {
     "name": "stderr",
     "output_type": "stream",
     "text": [
      "/home/pablo/anaconda2/lib/python2.7/site-packages/IPython/core/interactiveshell.py:2723: DtypeWarning: Columns (11) have mixed types. Specify dtype option on import or set low_memory=False.\n",
      "  interactivity=interactivity, compiler=compiler, result=result)\n"
     ]
    }
   ],
   "source": [
    "df = pd.read_csv('../Data/train_ver2_product_added.csv')"
   ]
  },
  {
   "cell_type": "code",
   "execution_count": 3,
   "metadata": {
    "collapsed": false
   },
   "outputs": [
    {
     "data": {
      "text/plain": [
       "\"\\n#escalamos la renta por provincia\\nmin_max_scaler = MinMaxScaler()\\nfor prov in df['nomprov'].unique():\\n    df.ix[df.nomprov==prov, 'renta'] = min_max_scaler.fit_transform(df.ix[df.nomprov==prov, 'renta'])\\n\\n\""
      ]
     },
     "execution_count": 3,
     "metadata": {},
     "output_type": "execute_result"
    }
   ],
   "source": [
    "\"\"\"\n",
    "#escalamos la renta por provincia\n",
    "min_max_scaler = MinMaxScaler()\n",
    "for prov in df['nomprov'].unique():\n",
    "    df.ix[df.nomprov==prov, 'renta'] = min_max_scaler.fit_transform(df.ix[df.nomprov==prov, 'renta'])\n",
    "\n",
    "\"\"\""
   ]
  },
  {
   "cell_type": "code",
   "execution_count": 4,
   "metadata": {
    "collapsed": false
   },
   "outputs": [
    {
     "data": {
      "text/plain": [
       "\"\\n#'canal_entrada', 'nomprov'\\ncategoricals = ['ind_empleado', 'pais_residencia', 'sexo', 'ind_nuevo',\\n               'indrel', 'indrel_1mes', 'tiprel_1mes', 'indresi', 'indext',\\n               'conyuemp', 'ind_actividad_cliente', 'indfall',\\n               'segmento']\\ncategoricals = ['tiprel_customer']\\n\\nle = LabelEncoder()\\ncategorical_df = df[categoricals].as_matrix()\\nint_df = le.fit_transform(categorical_df.ravel()).reshape(*categorical_df.shape)\\n\\nohe = OneHotEncoder()\\nbin_df = ohe.fit_transform(int_df).toarray()\\n\""
      ]
     },
     "execution_count": 4,
     "metadata": {},
     "output_type": "execute_result"
    }
   ],
   "source": [
    "\"\"\"\n",
    "#'canal_entrada', 'nomprov'\n",
    "categoricals = ['ind_empleado', 'pais_residencia', 'sexo', 'ind_nuevo',\n",
    "               'indrel', 'indrel_1mes', 'tiprel_1mes', 'indresi', 'indext',\n",
    "               'conyuemp', 'ind_actividad_cliente', 'indfall',\n",
    "               'segmento']\n",
    "categoricals = ['tiprel_customer']\n",
    "\n",
    "le = LabelEncoder()\n",
    "categorical_df = df[categoricals].as_matrix()\n",
    "int_df = le.fit_transform(categorical_df.ravel()).reshape(*categorical_df.shape)\n",
    "\n",
    "ohe = OneHotEncoder()\n",
    "bin_df = ohe.fit_transform(int_df).toarray()\n",
    "\"\"\""
   ]
  },
  {
   "cell_type": "code",
   "execution_count": 5,
   "metadata": {
    "collapsed": false,
    "scrolled": true
   },
   "outputs": [
    {
     "data": {
      "text/plain": [
       "\"\\ndemographics = ['age', 'antiguedad', 'renta']\\ndemographic_df = df[['age', 'antiguedad', 'renta']].as_matrix()\\n\""
      ]
     },
     "execution_count": 5,
     "metadata": {},
     "output_type": "execute_result"
    }
   ],
   "source": [
    "\"\"\"\n",
    "demographics = ['age', 'antiguedad', 'renta']\n",
    "demographic_df = df[['age', 'antiguedad', 'renta']].as_matrix()\n",
    "\"\"\""
   ]
  },
  {
   "cell_type": "code",
   "execution_count": 6,
   "metadata": {
    "collapsed": false
   },
   "outputs": [],
   "source": [
    "products_df = df.ix[:, df.iloc[:1,].filter(regex=\"ind_+.*ult.*\").columns.values].as_matrix()"
   ]
  },
  {
   "cell_type": "code",
   "execution_count": 7,
   "metadata": {
    "collapsed": false
   },
   "outputs": [],
   "source": [
    "#df_ho = pd.DataFrame(np.concatenate((demographic_df, bin_df, products_df), axis=1))\n",
    "#df_ho = pd.DataFrame(np.concatenate((bin_df, products_df), axis=1))\n",
    "df_ho = pd.DataFrame(products_df)\n",
    "df_ho['fecha_dato'] = df['fecha_dato']\n",
    "df_ho['product'] = df['product']\n",
    "##\n",
    "#df_ho['renta'] = df['renta']\n",
    "##"
   ]
  },
  {
   "cell_type": "code",
   "execution_count": 8,
   "metadata": {
    "collapsed": false
   },
   "outputs": [],
   "source": [
    "train_df = df_ho[df_ho['fecha_dato'] != '2016-05-28']\n",
    "test_df = df_ho[df_ho['fecha_dato'] == '2016-05-28']\n",
    "\n",
    "X = train_df.ix[:, train_df.columns != 'product']\n",
    "y = train_df['product']\n",
    "X_test = test_df.ix[:, test_df.columns != 'product']\n",
    "y_test = test_df['product']\n",
    "\n",
    "X = X.drop('fecha_dato', axis=1)\n",
    "X_test = X_test.drop('fecha_dato', axis=1)"
   ]
  },
  {
   "cell_type": "code",
   "execution_count": 9,
   "metadata": {
    "collapsed": true
   },
   "outputs": [],
   "source": [
    "from sklearn.ensemble import RandomForestClassifier"
   ]
  },
  {
   "cell_type": "code",
   "execution_count": 10,
   "metadata": {
    "collapsed": false,
    "scrolled": true
   },
   "outputs": [
    {
     "name": "stdout",
     "output_type": "stream",
     "text": [
      "optimist accuracy: 0.743516263075\n",
      "pesimist accuracy: 0.693294168219\n"
     ]
    }
   ],
   "source": [
    "clfrf = RandomForestClassifier(n_estimators=5, n_jobs=-1)\n",
    "clfrf.fit(X, y)\n",
    "Z_rf = clfrf.predict(X_test)\n",
    "\n",
    "corrects = 0\n",
    "y_test_array = y_test.as_matrix()\n",
    "for i in range(len(Z_rf)):\n",
    "    predicted_products = Z_rf[i].split()\n",
    "    real_products = y_test_array[i].split()\n",
    "    correct = np.intersect1d(predicted_products, real_products)\n",
    "    if len(correct) > 0:\n",
    "        corrects += 1\n",
    "    \n",
    "accuracy_rf = corrects / float(len(y_test_array))\n",
    "print 'optimist accuracy: ' + str(accuracy_rf)\n",
    "\n",
    "accuracy_rf = (Z_rf == y_test).sum() / float(len(y_test))\n",
    "print 'pesimist accuracy: ' + str(accuracy_rf)"
   ]
  }
 ],
 "metadata": {
  "kernelspec": {
   "display_name": "Python [Root]",
   "language": "python",
   "name": "Python [Root]"
  },
  "language_info": {
   "codemirror_mode": {
    "name": "ipython",
    "version": 2
   },
   "file_extension": ".py",
   "mimetype": "text/x-python",
   "name": "python",
   "nbconvert_exporter": "python",
   "pygments_lexer": "ipython2",
   "version": "2.7.12"
  }
 },
 "nbformat": 4,
 "nbformat_minor": 0
}
