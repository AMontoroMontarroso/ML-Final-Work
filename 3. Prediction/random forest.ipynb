{
 "cells": [
  {
   "cell_type": "code",
   "execution_count": 1,
   "metadata": {
    "collapsed": true
   },
   "outputs": [],
   "source": [
    "import pandas as pd\n",
    "import numpy as np\n",
    "from sklearn.ensemble import RandomForestClassifier"
   ]
  },
  {
   "cell_type": "markdown",
   "metadata": {},
   "source": [
    "<p>1. Read the train dataset</p>"
   ]
  },
  {
   "cell_type": "code",
   "execution_count": 2,
   "metadata": {
    "collapsed": false
   },
   "outputs": [
    {
     "name": "stderr",
     "output_type": "stream",
     "text": [
      "/home/pablo/anaconda2/lib/python2.7/site-packages/IPython/core/interactiveshell.py:2723: DtypeWarning: Columns (11) have mixed types. Specify dtype option on import or set low_memory=False.\n",
      "  interactivity=interactivity, compiler=compiler, result=result)\n"
     ]
    }
   ],
   "source": [
    "df = pd.read_csv('../Data/train_ver2_product_added.csv')"
   ]
  },
  {
   "cell_type": "markdown",
   "metadata": {},
   "source": [
    "<p>2. Set the age feature due to the results of the exploratoty analysis.</p>"
   ]
  },
  {
   "cell_type": "code",
   "execution_count": 3,
   "metadata": {
    "collapsed": false
   },
   "outputs": [],
   "source": [
    "df['age'] = df['age'].apply(lambda x: 1 if x <= 17 else 0)"
   ]
  },
  {
   "cell_type": "markdown",
   "metadata": {
    "collapsed": false
   },
   "source": [
    "<p>3. Select the useful features</p>"
   ]
  },
  {
   "cell_type": "code",
   "execution_count": 4,
   "metadata": {
    "collapsed": false
   },
   "outputs": [],
   "source": [
    "products_df = df.ix[:, df.iloc[:1,].filter(regex=\"ind_+.*ult.*\").columns.values]\n",
    "products_df['fecha_dato'] = df['fecha_dato']\n",
    "products_df['product'] = df['product']\n",
    "products_df['age'] = df['age']"
   ]
  },
  {
   "cell_type": "markdown",
   "metadata": {},
   "source": [
    "<p>4. Free memory </p>"
   ]
  },
  {
   "cell_type": "code",
   "execution_count": 5,
   "metadata": {
    "collapsed": false
   },
   "outputs": [],
   "source": [
    "del df"
   ]
  },
  {
   "cell_type": "markdown",
   "metadata": {},
   "source": [
    "<p>5. Split the train dataset in two datasets, one for train and the other for test. </p>"
   ]
  },
  {
   "cell_type": "code",
   "execution_count": 6,
   "metadata": {
    "collapsed": false
   },
   "outputs": [],
   "source": [
    "train_df = products_df[products_df['fecha_dato'] != '2016-05-28']\n",
    "test_df = products_df[products_df['fecha_dato'] == '2016-05-28']\n",
    "\n",
    "X = train_df.ix[:, train_df.columns != 'product']\n",
    "y = train_df['product']\n",
    "X_test = test_df.ix[:, test_df.columns != 'product']\n",
    "y_test = test_df['product']\n",
    "\n",
    "X = X.drop('fecha_dato', axis=1)\n",
    "X_test = X_test.drop('fecha_dato', axis=1)"
   ]
  },
  {
   "cell_type": "markdown",
   "metadata": {},
   "source": [
    "<p>6. Use a Random Forest Classifier for predict the products that a person will buy in the next month</p>"
   ]
  },
  {
   "cell_type": "code",
   "execution_count": 7,
   "metadata": {
    "collapsed": false,
    "scrolled": true
   },
   "outputs": [
    {
     "name": "stdout",
     "output_type": "stream",
     "text": [
      "optimist accuracy: 0.816735922052\n",
      "pesimist accuracy: 0.747599942685\n"
     ]
    }
   ],
   "source": [
    "clfrf = RandomForestClassifier(n_estimators=500, n_jobs=-1)\n",
    "clfrf.fit(X, y)\n",
    "Z_rf = clfrf.predict(X_test)\n",
    "\n",
    "corrects = 0\n",
    "y_test_array = y_test.as_matrix()\n",
    "for i in range(len(Z_rf)):\n",
    "    predicted_products = Z_rf[i].split()\n",
    "    real_products = y_test_array[i].split()\n",
    "    correct = np.intersect1d(predicted_products, real_products)\n",
    "    if len(correct) > 0:\n",
    "        corrects += 1\n",
    "    \n",
    "accuracy_rf = corrects / float(len(y_test_array))\n",
    "print 'optimist accuracy: ' + str(accuracy_rf)\n",
    "\n",
    "accuracy_rf = (Z_rf == y_test).sum() / float(len(y_test))\n",
    "print 'pesimist accuracy: ' + str(accuracy_rf)"
   ]
  },
  {
   "cell_type": "code",
   "execution_count": null,
   "metadata": {
    "collapsed": true
   },
   "outputs": [],
   "source": []
  }
 ],
 "metadata": {
  "kernelspec": {
   "display_name": "Python [Root]",
   "language": "python",
   "name": "Python [Root]"
  },
  "language_info": {
   "codemirror_mode": {
    "name": "ipython",
    "version": 2
   },
   "file_extension": ".py",
   "mimetype": "text/x-python",
   "name": "python",
   "nbconvert_exporter": "python",
   "pygments_lexer": "ipython2",
   "version": "2.7.12"
  }
 },
 "nbformat": 4,
 "nbformat_minor": 0
}
